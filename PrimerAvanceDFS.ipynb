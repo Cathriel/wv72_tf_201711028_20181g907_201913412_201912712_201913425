{
  "nbformat": 4,
  "nbformat_minor": 0,
  "metadata": {
    "colab": {
      "name": "DFS ver1.ipynb",
      "provenance": [],
      "authorship_tag": "ABX9TyPa3EM3kji9XxOrTi3ljt5a",
      "include_colab_link": true
    },
    "kernelspec": {
      "name": "python3",
      "display_name": "Python 3"
    },
    "language_info": {
      "name": "python"
    }
  },
  "cells": [
    {
      "cell_type": "markdown",
      "metadata": {
        "id": "view-in-github",
        "colab_type": "text"
      },
      "source": [
        "<a href=\"https://colab.research.google.com/github/Cathriel/wv72_tf_201711028_20181g907_201913412_201912712_201913425/blob/main/ImplementacionDFS.ipynb\" target=\"_parent\"><img src=\"https://colab.research.google.com/assets/colab-badge.svg\" alt=\"Open In Colab\"/></a>"
      ]
    },
    {
      "cell_type": "markdown",
      "metadata": {
        "id": "40aOW_EFGxYp"
      },
      "source": [
        "Algoritmo Base de DFS a adaptar al problema"
      ]
    },
    {
      "cell_type": "code",
      "metadata": {
        "id": "K4N0rE39Gi-C"
      },
      "source": [
        "def dfs(G, s):\n",
        "  n = len(G)\n",
        "  visited = [False]*n\n",
        "  parent = [None]*n\n",
        "\n",
        "  def _dfs(u):\n",
        "    visited[u] = True\n",
        "    for v in G[u]:\n",
        "      if not visited[v]:\n",
        "        parent[v] = u\n",
        "        _dfs(v)\n",
        "\n",
        "  _dfs(s)\n",
        "\n",
        "  return parent"
      ],
      "execution_count": null,
      "outputs": []
    },
    {
      "cell_type": "markdown",
      "metadata": {
        "id": "3j1w-UmpLlDe"
      },
      "source": [
        "La idea que se piensa trabajar es aplicar DFS desde el nodo del almacen para cada grafo pequeño que es una parte del grafo total (1000x1000). El tamaño de este grafo pequeño es en razon a la cantidad de puntos de entrega que abarcara el almacen."
      ]
    },
    {
      "cell_type": "code",
      "metadata": {
        "id": "cH3JjarHHitM"
      },
      "source": [
        "#Almacen[5]\n",
        "for i in range(Grafo_Peque):\n",
        "  print(dfs(Grafo_Peque,Almacen[i]))\n",
        "\n",
        "#La forma de ese grafo es la que se usaria"
      ],
      "execution_count": null,
      "outputs": []
    }
  ]
}
