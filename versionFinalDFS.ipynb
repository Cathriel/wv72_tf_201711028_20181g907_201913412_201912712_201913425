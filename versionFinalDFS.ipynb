{
  "nbformat": 4,
  "nbformat_minor": 0,
  "metadata": {
    "colab": {
      "name": "DFS individual.ipynb",
      "provenance": [],
      "include_colab_link": true
    },
    "kernelspec": {
      "name": "python3",
      "display_name": "Python 3"
    },
    "language_info": {
      "name": "python"
    }
  },
  "cells": [
    {
      "cell_type": "markdown",
      "metadata": {
        "id": "view-in-github",
        "colab_type": "text"
      },
      "source": [
        "<a href=\"https://colab.research.google.com/github/Cathriel/wv72_tf_201711028_20181g907_201913412_201912712_201913425/blob/main/versionFinalDFS.ipynb\" target=\"_parent\"><img src=\"https://colab.research.google.com/assets/colab-badge.svg\" alt=\"Open In Colab\"/></a>"
      ]
    },
    {
      "cell_type": "code",
      "metadata": {
        "id": "KOrwtGjhAbFw"
      },
      "source": [
        "def SetList(list,name):\n",
        "  fh = open(name)\n",
        "  line1 = True\n",
        "\n",
        "  for line in fh:\n",
        "    if line1:\n",
        "      line1=False\n",
        "      continue\n",
        "    data = line.rstrip().split(',')\n",
        "    toAdd = (int(data[0]),int(data[1]))\n",
        "    list.append(toAdd)\n",
        "  return list"
      ],
      "execution_count": null,
      "outputs": []
    },
    {
      "cell_type": "code",
      "metadata": {
        "id": "jT6hqJGgAhl_"
      },
      "source": [
        "pointsAlmacenes = list()\n",
        "pointsEntrega = list()\n",
        "extraPoints = list()\n",
        "pointsAlmacenes = SetList(pointsAlmacenes,\"drive/MyDrive/Complejidad Algoritmica/pointsAlmacenes.csv\")\n",
        "pointsEntrega = SetList(pointsEntrega,\"drive/MyDrive/Complejidad Algoritmica/pointsEntrega.csv\")\n",
        "extraPoints = SetList(extraPoints,\"drive/MyDrive/Complejidad Algoritmica/extraPoints.csv\")"
      ],
      "execution_count": null,
      "outputs": []
    },
    {
      "cell_type": "code",
      "metadata": {
        "colab": {
          "base_uri": "https://localhost:8080/"
        },
        "id": "VYdXPCa8u5qr",
        "outputId": "1a295ae8-e855-4f41-ce13-8c8b3d95dd86"
      },
      "source": [
        "from google.colab import drive\n",
        "drive.mount('/content/drive')"
      ],
      "execution_count": null,
      "outputs": [
        {
          "output_type": "stream",
          "name": "stdout",
          "text": [
            "Mounted at /content/drive\n"
          ]
        }
      ]
    },
    {
      "cell_type": "code",
      "metadata": {
        "id": "WTbm_7hsAi-_"
      },
      "source": [
        "def DeleteEqualsInExtraPoints():\n",
        "  i=0\n",
        "  j=0\n",
        "  k=0\n",
        "  nodes = list()\n",
        "  almacen = False\n",
        "  while i < len(extraPoints):\n",
        "    addSomething = False\n",
        "    toAdd=list()\n",
        "    number = extraPoints[i][0]+extraPoints[i][1]*nFilas\n",
        "    #Nodo de Abajo\n",
        "    if number-nFilas>=0:\n",
        "      toAdd.append(number-nFilas)\n",
        "\n",
        "    #Nodo de la Izquierda\n",
        "    if number-1>= (extraPoints[i][1]*nFilas):\n",
        "      toAdd.append(number-1)\n",
        "\n",
        "    #Nodo de la Derecha\n",
        "    if number+1<((extraPoints[i][1]+1)*nFilas):\n",
        "      toAdd.append(number+1)\n",
        "\n",
        "    #Nodo de Arriba\n",
        "    if number+nFilas<(nFilas*nColumnas):\n",
        "      toAdd.append(number+nFilas)\n",
        "\n",
        "    while j < len(pointsEntrega):\n",
        "      if extraPoints[i][0]==pointsEntrega[j][0] and extraPoints[i][1]==pointsEntrega[j][1]:\n",
        "        extraPoints.pop(i)\n",
        "        i-=1\n",
        "        j+=1\n",
        "        toAdd.append(1)\n",
        "        addSomething = True\n",
        "        entrega.append(number)   \n",
        "        break\n",
        "      else:\n",
        "        break\n",
        "    while k < len(pointsAlmacenes):\n",
        "      if extraPoints[i][0]==pointsAlmacenes[k][0] and extraPoints[i][1]==pointsAlmacenes[k][1]:\n",
        "        extraPoints.pop(i)\n",
        "        i-=1\n",
        "        k+=1\n",
        "        toAdd.append(2)\n",
        "        addSomething = True\n",
        "        almacenes.append(number)\n",
        "        break\n",
        "      else:\n",
        "        break\n",
        "    if addSomething == False:\n",
        "      toAdd.append(0)\n",
        "    i+=1\n",
        "    toAdd.append(number)\n",
        "    nodes.append(toAdd)\n",
        "  return nodes"
      ],
      "execution_count": null,
      "outputs": []
    },
    {
      "cell_type": "code",
      "metadata": {
        "id": "ZJMzHcZ4AlzH"
      },
      "source": [
        "nFilas = nColumnas = 1000\n",
        "almacenes = list()\n",
        "entrega= list()\n",
        "nodos = DeleteEqualsInExtraPoints()"
      ],
      "execution_count": null,
      "outputs": []
    },
    {
      "cell_type": "code",
      "metadata": {
        "id": "MflFeuaKAnZP"
      },
      "source": [
        "def DBP(a,b):\n",
        "  x1, y1=a\n",
        "  x2, y2=b\n",
        "  return abs(x1-x2)+ abs(y1-y2)"
      ],
      "execution_count": null,
      "outputs": []
    },
    {
      "cell_type": "code",
      "metadata": {
        "id": "6KgECSu_Ap6H"
      },
      "source": [
        "group = [-1]*len(pointsEntrega)\n",
        "group2 = [-1]*len(extraPoints)\n",
        "\n",
        "for i in range(len(pointsEntrega)):\n",
        "  m=0\n",
        "  d = DBP(pointsEntrega[i],pointsAlmacenes[0])\n",
        "  for j in range(len(pointsAlmacenes)):\n",
        "    d2 = DBP(pointsEntrega[i],pointsAlmacenes[j])\n",
        "    if d2 <d:\n",
        "      d = d2\n",
        "      m = j\n",
        "  group[i]=m\n",
        "\n",
        "for i in range(len(extraPoints)):\n",
        "  m=0\n",
        "  d = DBP(extraPoints[i],pointsAlmacenes[0])\n",
        "  for j in range(len(pointsAlmacenes)):\n",
        "    d2 = DBP(extraPoints[i],pointsAlmacenes[j])\n",
        "    if d2 <d:\n",
        "      d = d2\n",
        "      m = j\n",
        "  group2[i]=m"
      ],
      "execution_count": null,
      "outputs": []
    },
    {
      "cell_type": "code",
      "metadata": {
        "id": "b8fis7v_ArrA"
      },
      "source": [
        "nodesGroups = list()\n",
        "for i in range(len(pointsAlmacenes)):\n",
        "  toAdd=list()\n",
        "  almacen = pointsAlmacenes[i][0]+pointsAlmacenes[i][1]*nFilas\n",
        "  toAdd.append(nodos[almacen])\n",
        "  for j in range(len(group)):\n",
        "    if group[j]==i:\n",
        "      entrega = pointsEntrega[j][0]+pointsEntrega[j][1]*nFilas\n",
        "      toAdd.append(nodos[entrega])\n",
        "  for j in range(len(group2)):\n",
        "    if group2[j]==i:\n",
        "      entrega = extraPoints[j][0]+extraPoints[j][1]*nFilas\n",
        "      toAdd.append(nodos[entrega])\n",
        "  nodesGroups.append(toAdd)"
      ],
      "execution_count": null,
      "outputs": []
    },
    {
      "cell_type": "code",
      "metadata": {
        "id": "bm0ftrZuoYah"
      },
      "source": [
        "for i in range(len(nodesGroups)):\n",
        "  j=i\n",
        "  while j<len(nodesGroups)-1:\n",
        "    j+=1\n",
        "    if len(nodesGroups[i])>len(nodesGroups[j]):\n",
        "      nodesGroups[i],nodesGroups[j]=nodesGroups[j],nodesGroups[i]\n",
        "\n",
        "NodosLucia = list()\n",
        "NodosJorge = list()\n",
        "NodosLuis = list()\n",
        "NodosDaniel = list()\n",
        "NodosJoaquin = list()\n",
        "\n",
        "for i in range(len(nodesGroups)):\n",
        "  if i<18:\n",
        "    NodosLucia.append(nodesGroups[i])\n",
        "  elif i<36:\n",
        "    NodosJorge.append(nodesGroups[i])\n",
        "  elif i<55:\n",
        "    NodosLuis.append(nodesGroups[i])\n",
        "  elif i<74:\n",
        "    NodosDaniel.append(nodesGroups[i])\n",
        "  else:\n",
        "    NodosJoaquin.append(nodesGroups[i])"
      ],
      "execution_count": null,
      "outputs": []
    },
    {
      "cell_type": "code",
      "metadata": {
        "id": "ujqFVtG4vKfp"
      },
      "source": [
        "def dfsTF(G,g, s):\n",
        "  n = len(G)\n",
        "  visited = [False]*n\n",
        "  parent = [None]*n\n",
        "\n",
        "  def _dfs(u):\n",
        "    visited[G[u][v]] = True\n",
        "    for v in range(len(G[u])-2):\n",
        "      if not visited[G[u][v]]:\n",
        "        parent[G[u][v]] = u\n",
        "        _dfs(v)\n",
        "\n",
        "  _dfs(s)"
      ],
      "execution_count": null,
      "outputs": []
    },
    {
      "cell_type": "code",
      "metadata": {
        "colab": {
          "base_uri": "https://localhost:8080/"
        },
        "id": "TLdymTWkA3R3",
        "outputId": "7e91bf82-2456-4489-8749-bccd24a15151"
      },
      "source": [
        "#parent = [None]*len(nodos)\n",
        "almacen=0\n",
        "for i in range(len(NodosLuis)):\n",
        "  for j in range(len(NodosLuis[i])):\n",
        "    if NodosLuis[i][j][-2]==2:\n",
        "      almacen = NodosLuis[i][j][-1]\n",
        "      print(almacen)\n",
        "      # dfsTF(nodos, NodosLuis[i],almacen)\n"
      ],
      "execution_count": null,
      "outputs": [
        {
          "output_type": "stream",
          "name": "stdout",
          "text": [
            "607004\n",
            "650817\n",
            "716795\n",
            "179982\n",
            "354900\n",
            "806208\n",
            "853581\n",
            "814636\n",
            "883235\n",
            "854846\n",
            "239644\n",
            "504726\n",
            "974702\n",
            "868517\n",
            "451890\n",
            "480103\n",
            "63912\n",
            "300652\n",
            "756929\n"
          ]
        }
      ]
    }
  ]
}