{
  "nbformat": 4,
  "nbformat_minor": 0,
  "metadata": {
    "colab": {
      "name": "AlgoritmoDataSet.ipynb",
      "provenance": [],
      "collapsed_sections": [],
      "include_colab_link": true
    },
    "kernelspec": {
      "name": "python3",
      "display_name": "Python 3"
    },
    "language_info": {
      "name": "python"
    }
  },
  "cells": [
    {
      "cell_type": "markdown",
      "metadata": {
        "id": "view-in-github",
        "colab_type": "text"
      },
      "source": [
        "<a href=\"https://colab.research.google.com/github/Cathriel/wv72_tf_201711028_20181g907_201913412_201912712_201913425/blob/main/AlgoritmoDataSet.ipynb\" target=\"_parent\"><img src=\"https://colab.research.google.com/assets/colab-badge.svg\" alt=\"Open In Colab\"/></a>"
      ]
    },
    {
      "cell_type": "code",
      "metadata": {
        "id": "MXeAFwOWirI4"
      },
      "source": [
        "import numpy as np\n",
        "import numpy.random as npr\n",
        "\n",
        "n=npr.randint(2500,5000)\n",
        "m = npr.randint(50,100)\n",
        "points = npr.randint(0, 200, (n, 2), dtype=np.int)\n",
        "points3 = npr.randint(0,200, (m, 2), dtype=np.int)\n",
        "equal = False"
      ],
      "execution_count": null,
      "outputs": []
    },
    {
      "cell_type": "code",
      "metadata": {
        "colab": {
          "base_uri": "https://localhost:8080/"
        },
        "id": "S1t0E3wWcJbj",
        "outputId": "09027513-b48e-4f8f-d363-9a260e0afa22"
      },
      "source": [
        "indices = list()\n",
        "for i in range(len(points)):\n",
        "  j=i\n",
        "  while j < len(points)-1:\n",
        "    j+=1\n",
        "    if points[i][0]==points[j][0] and points[i][1]==points[j][1] and i != j:\n",
        "      equals = True\n",
        "      indices.append(j)\n",
        "      break\n",
        "\n",
        "points2 = list()\n",
        "print(indices)\n",
        "\n",
        "c = 0 \n",
        "x = list()\n",
        "y = list()\n",
        "\n",
        "for i in range(len(points)):\n",
        "  if c < len(indices):\n",
        "    if i == indices[c]:\n",
        "      c+=1\n",
        "    else:\n",
        "      points2.append(points[i])\n",
        "  else:\n",
        "    points2.append(points[i])\n",
        "\n",
        "np.savetxt('distribucion.csv', points2, fmt=\"%i\", delimiter=\",\", header=\"x,y\", comments=\"\")\n",
        "np.savetxt('almacenes.csv', points3, fmt=\"%i\", delimiter=\",\", header=\"x,y\", comments=\"\")\n"
      ],
      "execution_count": null,
      "outputs": [
        {
          "output_type": "stream",
          "name": "stdout",
          "text": [
            "[873, 1800, 1390, 1840, 1370, 1691, 778, 516, 318, 2205, 1177, 2660, 1233, 2751, 1950, 1123, 486, 1252, 1794, 791, 2925, 2443, 1721, 1966, 1127, 2390, 2830, 1155, 1927, 2079, 1108, 2066, 883, 998, 2692, 1566, 1844, 1121, 2057, 1567, 2081, 1898, 1380, 2381, 1638, 1908, 1639, 2180, 1366, 2947, 2904, 1311, 1291, 2451, 2339, 2697, 2317, 2125, 2874, 2355, 1773, 2030, 1724, 2627, 2212, 2348, 2896, 1971, 2036, 2078, 2881, 1817, 2681, 2460, 2516, 2190, 2839, 2263, 2757, 2333, 2227, 2794, 2166, 2512, 2735, 2943, 2818]\n"
          ]
        }
      ]
    },
    {
      "cell_type": "code",
      "metadata": {
        "id": "RBG5sDl5cbS6"
      },
      "source": [
        "fhandler = open('distribucion.csv')\n",
        "for line in fhandler:\n",
        "  line = line.rstrip()\n",
        "  print(line)"
      ],
      "execution_count": null,
      "outputs": []
    },
    {
      "cell_type": "code",
      "metadata": {
        "colab": {
          "base_uri": "https://localhost:8080/"
        },
        "id": "7IqBHYM4fhko",
        "outputId": "43b41781-bb24-46b0-87e9-baffa8c3ed64"
      },
      "source": [
        "fhandler = open('almacenes.csv')\n",
        "for line in fhandler:\n",
        "  line = line.rstrip()\n",
        "  print(line)"
      ],
      "execution_count": null,
      "outputs": [
        {
          "output_type": "stream",
          "name": "stdout",
          "text": [
            "x,y\n",
            "15,14\n",
            "184,0\n",
            "32,87\n",
            "77,120\n",
            "159,145\n",
            "69,43\n",
            "157,1\n",
            "137,66\n",
            "86,51\n",
            "73,96\n",
            "179,191\n",
            "100,104\n",
            "144,67\n",
            "97,12\n",
            "108,169\n",
            "42,166\n",
            "73,39\n",
            "40,30\n",
            "37,74\n",
            "99,76\n",
            "49,81\n",
            "41,19\n",
            "57,43\n",
            "51,56\n",
            "182,145\n",
            "43,116\n",
            "21,181\n",
            "153,190\n",
            "15,188\n",
            "99,86\n",
            "72,136\n",
            "152,21\n",
            "132,191\n",
            "56,42\n",
            "14,131\n",
            "19,126\n",
            "60,161\n",
            "136,3\n",
            "29,101\n",
            "8,146\n",
            "21,102\n",
            "181,20\n",
            "176,166\n",
            "156,20\n",
            "70,72\n",
            "36,86\n",
            "40,32\n",
            "116,43\n",
            "173,156\n",
            "140,19\n",
            "37,23\n",
            "16,30\n",
            "11,77\n",
            "70,25\n",
            "11,68\n",
            "56,121\n",
            "171,121\n",
            "150,57\n",
            "39,119\n",
            "108,133\n",
            "117,87\n",
            "90,63\n",
            "137,149\n",
            "17,159\n",
            "88,116\n",
            "102,60\n",
            "102,87\n",
            "130,70\n",
            "192,89\n",
            "57,181\n",
            "109,101\n",
            "31,24\n",
            "58,143\n",
            "40,15\n",
            "5,146\n",
            "119,77\n",
            "120,24\n",
            "79,67\n",
            "77,3\n",
            "55,154\n",
            "1,94\n",
            "156,54\n",
            "30,173\n"
          ]
        }
      ]
    },
    {
      "cell_type": "code",
      "metadata": {
        "colab": {
          "base_uri": "https://localhost:8080/",
          "height": 483
        },
        "id": "ixdyuiLSvsCz",
        "outputId": "8e857c61-e7a2-4b93-df7f-9e17be7b1cc7"
      },
      "source": [
        "import matplotlib.pyplot as plt\n",
        "x = list()\n",
        "x2 = list()\n",
        "y = list()\n",
        "y2 = list()\n",
        "fig, ax = plt.subplots(figsize=(8,8))\n",
        "#plt.figure(figsize=(1,1))\n",
        "for i in range(len(points2)):\n",
        "  x.append(points2[i][0])\n",
        "  y.append(points2[i][1])\n",
        "  \n",
        "for i in range(len(points3)):\n",
        "  x2.append(points3[i][0])\n",
        "  y2.append(points3[i][1])\n",
        "ax.scatter(x,y,color='blue')\n",
        "ax.scatter(x2,y2,color='red')\n",
        "plt.show()"
      ],
      "execution_count": null,
      "outputs": [
        {
          "output_type": "display_data",
          "data": {
            "image/png": "[encoded data removed]",
            "text/plain": [
              "<Figure size 576x576 with 1 Axes>"
            ]
          },
          "metadata": {
            "needs_background": "light"
          }
        }
      ]
    }
  ]
}