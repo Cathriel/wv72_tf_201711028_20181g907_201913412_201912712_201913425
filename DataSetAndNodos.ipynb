{
  "nbformat": 4,
  "nbformat_minor": 0,
  "metadata": {
    "colab": {
      "name": "DataSet.ipynb",
      "provenance": [],
      "collapsed_sections": [],
      "include_colab_link": true
    },
    "kernelspec": {
      "name": "python3",
      "display_name": "Python 3"
    },
    "language_info": {
      "name": "python"
    }
  },
  "cells": [
    {
      "cell_type": "markdown",
      "metadata": {
        "id": "view-in-github",
        "colab_type": "text"
      },
      "source": [
        "<a href=\"https://colab.research.google.com/github/Cathriel/wv72_tf_201711028_20181g907_201913412_201912712_201913425/blob/main/DataSetAndNodes.ipynb\" target=\"_parent\"><img src=\"https://colab.research.google.com/assets/colab-badge.svg\" alt=\"Open In Colab\"/></a>"
      ]
    },
    {
      "cell_type": "code",
      "metadata": {
        "colab": {
          "base_uri": "https://localhost:8080/"
        },
        "id": "MXeAFwOWirI4",
        "outputId": "8fccc196-891e-40c1-8df5-cea61d541c1a"
      },
      "source": [
        "import numpy as np\n",
        "import numpy.random as npr\n",
        "\n",
        "n = npr.randint(1000,1500)\n",
        "m = npr.randint(50,100)\n",
        "nFilas=1000\n",
        "nColumnas=1000\n",
        "array1 = npr.randint(0, nFilas, (n, 2), dtype=np.int)\n",
        "array2 = npr.randint(0,nColumnas, (m, 2), dtype=np.int)\n",
        "print(n,m)"
      ],
      "execution_count": 1,
      "outputs": [
        {
          "output_type": "stream",
          "name": "stdout",
          "text": [
            "1063 86\n"
          ]
        }
      ]
    },
    {
      "cell_type": "code",
      "metadata": {
        "id": "7pHWwUB4UBL0"
      },
      "source": [
        "def DeleteEqualsAndSort(array):\n",
        "  points = list()\n",
        "  for i in range(len(array)):\n",
        "    toAdd = (array[i][0],array[i][1])\n",
        "    points.append(toAdd)\n",
        "  \n",
        "  for i in range(len(points)):\n",
        "    j=i\n",
        "    while j < len(points)-1:\n",
        "      j+=1\n",
        "      if points[i][1]>points[j][1]:\n",
        "        points[i],points[j]=points[j],points[i]\n",
        "      elif points[i][1]==points[j][1]:\n",
        "        if points[i][0]>points[j][0]:\n",
        "          points[i],points[j]=points[j],points[i]\n",
        "\n",
        "  indices = list()\n",
        "  for i in range(len(points)):\n",
        "    j=i\n",
        "    while j < (len(points)-1):\n",
        "      j+=1\n",
        "      if points[i][1]<points[j][1]:\n",
        "        break\n",
        "      if points[i][0]==points[j][0] and points[i][1]==points[j][1] and i != j:\n",
        "        points.pop(j)\n",
        "        j-=1\n",
        "\n",
        "  return points"
      ],
      "execution_count": 2,
      "outputs": []
    },
    {
      "cell_type": "code",
      "metadata": {
        "id": "EOIxzHX4u1oX"
      },
      "source": [
        "def DeleteEqualsArrays(entrega, almacenes):\n",
        "  i=0\n",
        "  while i < len(entrega):\n",
        "    j=0\n",
        "    while j < len(almacenes):\n",
        "      if entrega[i][0] == almacenes[j][0] and entrega[i][1] == almacenes[j][1]:\n",
        "        entrega.pop(i)\n",
        "        i-=1\n",
        "      j+=1\n",
        "    i+=1\n",
        "    "
      ],
      "execution_count": 3,
      "outputs": []
    },
    {
      "cell_type": "code",
      "metadata": {
        "id": "6OAaA8y3Ujqs"
      },
      "source": [
        "pointsAlmacenes = list()\n",
        "pointsEntrega = list()\n",
        "pointsEntrega=DeleteEqualsAndSort(array1)\n",
        "pointsAlmacenes=DeleteEqualsAndSort(array2)\n",
        "DeleteEqualsArrays(pointsEntrega,pointsAlmacenes)"
      ],
      "execution_count": 4,
      "outputs": []
    },
    {
      "cell_type": "code",
      "metadata": {
        "id": "zjnu_Gu5ZyJq"
      },
      "source": [
        "def DeleteEqualsInExtraPoints():\n",
        "  i=0\n",
        "  j=0\n",
        "  k=0\n",
        "  nodes = list()\n",
        "  almacen = False\n",
        "  while i < len(extraPoints):\n",
        "    addSomething = False\n",
        "    toAdd=list()\n",
        "    number = extraPoints[i][0]+extraPoints[i][1]*nFilas\n",
        "    \n",
        "    #Nodo de Abajo\n",
        "    if number-nFilas>=0:\n",
        "      toAdd.append(number-nFilas)\n",
        "\n",
        "    #Nodo de la Izquierda\n",
        "    if number-1>= (extraPoints[i][1]*nFilas):\n",
        "      toAdd.append(number-1)\n",
        "\n",
        "    #Nodo de la Derecha\n",
        "    if number+1<((extraPoints[i][1]+1)*nFilas):\n",
        "      toAdd.append(number+1)\n",
        "\n",
        "    #Nodo de Arriba\n",
        "    if number+nFilas<(nFilas*nColumnas):\n",
        "      toAdd.append(number+nFilas)\n",
        "\n",
        "    while j < len(pointsEntrega):\n",
        "      if extraPoints[i][0]==pointsEntrega[j][0] and extraPoints[i][1]==pointsEntrega[j][1]:\n",
        "        extraPoints.pop(i)\n",
        "        i-=1\n",
        "        j+=1\n",
        "        toAdd.append(1)\n",
        "        addSomething = True\n",
        "        entrega.append(number)   \n",
        "        break\n",
        "      else:\n",
        "        break\n",
        "    while k < len(pointsAlmacenes):\n",
        "      if extraPoints[i][0]==pointsAlmacenes[k][0] and extraPoints[i][1]==pointsAlmacenes[k][1]:\n",
        "        extraPoints.pop(i)\n",
        "        i-=1\n",
        "        k+=1\n",
        "        toAdd.append(2)\n",
        "        addSomething = True\n",
        "        almacenes.append(number)\n",
        "        break\n",
        "      else:\n",
        "        break\n",
        "    if addSomething == False:\n",
        "      toAdd.append(0)\n",
        "    i+=1\n",
        "    nodes.append(toAdd)\n",
        "  return nodes\n"
      ],
      "execution_count": 5,
      "outputs": []
    },
    {
      "cell_type": "code",
      "metadata": {
        "id": "ss94gCTIaAJK"
      },
      "source": [
        "extraPoints = list()\n",
        "for i in range(nFilas):\n",
        "  for j in range(nColumnas):\n",
        "    toAdd = (j,i)\n",
        "    extraPoints.append(toAdd)"
      ],
      "execution_count": 6,
      "outputs": []
    },
    {
      "cell_type": "code",
      "metadata": {
        "id": "54ViPPNEbjDK"
      },
      "source": [
        "nodos = list()\n",
        "almacenes = list()\n",
        "entrega = list()\n",
        "nodos = DeleteEqualsInExtraPoints()"
      ],
      "execution_count": 7,
      "outputs": []
    },
    {
      "cell_type": "code",
      "metadata": {
        "id": "S1t0E3wWcJbj"
      },
      "source": [
        "np.savetxt('pointsEntrega.csv', pointsEntrega, fmt=\"%i\", delimiter=\",\", header=\"x,y\", comments=\"\")\n",
        "np.savetxt('pointsAlmacenes.csv', pointsAlmacenes, fmt=\"%i\", delimiter=\",\", header=\"x,y\", comments=\"\")\n",
        "np.savetxt('extraPoints.csv', extraPoints, fmt=\"%i\", delimiter=\",\", header=\"x,y\", comments=\"\")"
      ],
      "execution_count": null,
      "outputs": []
    },
    {
      "cell_type": "code",
      "metadata": {
        "colab": {
          "base_uri": "https://localhost:8080/",
          "height": 483
        },
        "id": "ixdyuiLSvsCz",
        "outputId": "e54ba95c-17e0-4331-9a1d-d552abb85e8f"
      },
      "source": [
        "import matplotlib.pyplot as plt\n",
        "\n",
        "x = list()\n",
        "x2 = list()\n",
        "x3 = list()\n",
        "y = list()\n",
        "y2 = list()\n",
        "y3 = list()\n",
        "fig, ax = plt.subplots(figsize=(8,8))\n",
        "#plt.figure(figsize=(1,1))\n",
        "for i in range(len(pointsEntrega)):\n",
        "  x.append(pointsEntrega[i][0])\n",
        "  y.append(pointsEntrega[i][1])\n",
        "  \n",
        "for i in range(len(pointsAlmacenes)):\n",
        "  x2.append(pointsAlmacenes[i][0])\n",
        "  y2.append(pointsAlmacenes[i][1])\n",
        "  \n",
        "for i in range(len(extraPoints)):\n",
        "  x3.append(extraPoints[i][0])\n",
        "  y3.append(extraPoints[i][1])\n",
        "\n",
        "ax.scatter(x3,y3,color='green',s=1)\n",
        "ax.scatter(x,y,color='blue',s=1)\n",
        "ax.scatter(x2,y2,color='red',s=1)\n",
        "plt.show()"
      ],
      "execution_count": 8,
      "outputs": [
        {
          "output_type": "display_data",
          "data": {
            "image/png": "[encoded data removed]",
            "text/plain": [
              "<Figure size 576x576 with 1 Axes>"
            ]
          },
          "metadata": {
            "needs_background": "light"
          }
        }
      ]
    },
    {
      "cell_type": "code",
      "metadata": {
        "id": "Dsm3dM2RbQGH"
      },
      "source": [
        "def bfs(G, s):\n",
        "  n = len(G)\n",
        "  visited = [False]*n\n",
        "  parent = [None]*n\n",
        "  queue = [s]\n",
        "  visited[s] = True\n",
        "  contador = 0\n",
        "\n",
        "  while queue:\n",
        "    u = queue.pop(0)\n",
        "    for v in range(len(G[u])):\n",
        "      if v<(len(G[u])-1) and not visited[G[u][v]]:\n",
        "        visited[G[u][v]] = True\n",
        "        parent[G[u][v]] = u\n",
        "        a = G[u][v] \n",
        "        if G[a][-1] == 1:\n",
        "          contador +=1\n",
        "        queue.append(G[u][v])\n",
        "      if contador== cantidadPuntosEntrega:\n",
        "        return parent\n",
        "\n",
        "  return parent"
      ],
      "execution_count": 9,
      "outputs": []
    },
    {
      "cell_type": "code",
      "metadata": {
        "colab": {
          "base_uri": "https://localhost:8080/"
        },
        "id": "hkAqZSxueBCE",
        "outputId": "386a2396-9517-45ee-a595-2c44dd683059"
      },
      "source": [
        "cantidadPuntosEntrega=len(entrega)\n",
        "for i in almacenes[:10]:\n",
        "  print(\"Desde el nodo:\",i)\n",
        "  bfs(nodos,i)"
      ],
      "execution_count": 11,
      "outputs": [
        {
          "output_type": "stream",
          "name": "stdout",
          "text": [
            "Desde el nodo: 1456\n",
            "Desde el nodo: 3769\n",
            "Desde el nodo: 11865\n",
            "Desde el nodo: 15661\n",
            "Desde el nodo: 22052\n",
            "Desde el nodo: 35307\n",
            "Desde el nodo: 37857\n",
            "Desde el nodo: 49625\n",
            "Desde el nodo: 71526\n",
            "Desde el nodo: 106405\n"
          ]
        }
      ]
    }
  ]
}
