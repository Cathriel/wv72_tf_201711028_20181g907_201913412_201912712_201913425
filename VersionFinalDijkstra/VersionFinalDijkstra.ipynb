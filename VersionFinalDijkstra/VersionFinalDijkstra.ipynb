{
 "cells": [
  {
   "cell_type": "code",
   "execution_count": 1,
   "metadata": {},
   "outputs": [],
   "source": [
    "import graphviz as gv\n",
    "import numpy as np\n",
    "import pandas as pd\n",
    "import heapq as hq\n",
    "import math"
   ]
  },
  {
   "cell_type": "code",
   "execution_count": 2,
   "metadata": {},
   "outputs": [],
   "source": [
    "def SetList(list,name):\n",
    "  fh = open(name)\n",
    "  line1 = True\n",
    "\n",
    "  for line in fh:\n",
    "    if line1:\n",
    "      line1=False\n",
    "      continue\n",
    "    data = line.rstrip().split(',')\n",
    "    toAdd = (int(data[0]),int(data[1]))\n",
    "    list.append(toAdd)\n",
    "  return list"
   ]
  },
  {
   "cell_type": "code",
   "execution_count": 3,
   "metadata": {},
   "outputs": [],
   "source": [
    "pointsAlmacenes = list()\n",
    "pointsEntrega = list()\n",
    "extraPoints = list()\n",
    "pointsAlmacenes = SetList(pointsAlmacenes, \"pointsAlmacenes.csv\")\n",
    "pointsEntrega = SetList(pointsEntrega, \"pointsEntrega.csv\")\n",
    "extraPoints = SetList(extraPoints, \"extraPoints.csv\")"
   ]
  },
  {
   "cell_type": "code",
   "execution_count": 4,
   "metadata": {},
   "outputs": [],
   "source": [
    "def DeleteEqualsInExtraPoints():\n",
    "  i=0\n",
    "  j=0\n",
    "  k=0\n",
    "  nodes = list()\n",
    "  almacen = False\n",
    "  while i < len(extraPoints):\n",
    "    addSomething = False\n",
    "    toAdd=list()\n",
    "    number = extraPoints[i][0]+extraPoints[i][1]*nFilas\n",
    "    #Nodo de Abajo\n",
    "    if number-nFilas>=0:\n",
    "      toAdd.append(number-nFilas)\n",
    "\n",
    "    #Nodo de la Izquierda\n",
    "    if number-1>= (extraPoints[i][1]*nFilas):\n",
    "      toAdd.append(number-1)\n",
    "\n",
    "    #Nodo de la Derecha\n",
    "    if number+1<((extraPoints[i][1]+1)*nFilas):\n",
    "      toAdd.append(number+1)\n",
    "\n",
    "    #Nodo de Arriba\n",
    "    if number+nFilas<(nFilas*nColumnas):\n",
    "      toAdd.append(number+nFilas)\n",
    "\n",
    "    while j < len(pointsEntrega):\n",
    "      if extraPoints[i][0]==pointsEntrega[j][0] and extraPoints[i][1]==pointsEntrega[j][1]:\n",
    "        extraPoints.pop(i)\n",
    "        i-=1\n",
    "        j+=1\n",
    "        toAdd.append(1)\n",
    "        addSomething = True\n",
    "        entrega.append(number)   \n",
    "        break\n",
    "      else:\n",
    "        break\n",
    "    while k < len(pointsAlmacenes):\n",
    "      if extraPoints[i][0]==pointsAlmacenes[k][0] and extraPoints[i][1]==pointsAlmacenes[k][1]:\n",
    "        extraPoints.pop(i)\n",
    "        i-=1\n",
    "        k+=1\n",
    "        toAdd.append(2)\n",
    "        addSomething = True\n",
    "        almacenes.append(number)\n",
    "        break\n",
    "      else:\n",
    "        break\n",
    "    if addSomething == False:\n",
    "      toAdd.append(0)\n",
    "    i+=1\n",
    "    toAdd.append(number)\n",
    "    nodes.append(toAdd)\n",
    "  return nodes"
   ]
  },
  {
   "cell_type": "code",
   "execution_count": 5,
   "metadata": {},
   "outputs": [],
   "source": [
    "nFilas = nColumnas = 1000\n",
    "almacenes = list()\n",
    "entrega= list()\n",
    "nodos = DeleteEqualsInExtraPoints()"
   ]
  },
  {
   "cell_type": "code",
   "execution_count": 6,
   "metadata": {},
   "outputs": [],
   "source": [
    "def DBP(a,b):\n",
    "  x1, y1=a\n",
    "  x2, y2=b\n",
    "  return abs(x1-x2)+ abs(y1-y2)"
   ]
  },
  {
   "cell_type": "code",
   "execution_count": 7,
   "metadata": {},
   "outputs": [],
   "source": [
    "group = [-1]*len(pointsEntrega)\n",
    "group2 = [-1]*len(extraPoints)\n",
    "\n",
    "for i in range(len(pointsEntrega)):\n",
    "  m=0\n",
    "  d = DBP(pointsEntrega[i],pointsAlmacenes[0])\n",
    "  for j in range(len(pointsAlmacenes)):\n",
    "    d2 = DBP(pointsEntrega[i],pointsAlmacenes[j])\n",
    "    if d2 <d:\n",
    "      d = d2\n",
    "      m = j\n",
    "  group[i]=m\n",
    "\n",
    "for i in range(len(extraPoints)):\n",
    "  m=0\n",
    "  d = DBP(extraPoints[i],pointsAlmacenes[0])\n",
    "  for j in range(len(pointsAlmacenes)):\n",
    "    d2 = DBP(extraPoints[i],pointsAlmacenes[j])\n",
    "    if d2 <d:\n",
    "      d = d2\n",
    "      m = j\n",
    "  group2[i]=m"
   ]
  },
  {
   "cell_type": "code",
   "execution_count": 8,
   "metadata": {},
   "outputs": [],
   "source": [
    "nodesGroups = list()\n",
    "for i in range(len(pointsAlmacenes)):\n",
    "  toAdd=list()\n",
    "  almacen = pointsAlmacenes[i][0]+pointsAlmacenes[i][1]*nFilas\n",
    "  toAdd.append(nodos[almacen])\n",
    "  for j in range(len(group)):\n",
    "    if group[j]==i:\n",
    "      entrega = pointsEntrega[j][0]+pointsEntrega[j][1]*nFilas\n",
    "      toAdd.append(nodos[entrega])\n",
    "  for j in range(len(group2)):\n",
    "    if group2[j]==i:\n",
    "      entrega = extraPoints[j][0]+extraPoints[j][1]*nFilas\n",
    "      toAdd.append(nodos[entrega])\n",
    "  nodesGroups.append(toAdd)"
   ]
  },
  {
   "cell_type": "code",
   "execution_count": 9,
   "metadata": {},
   "outputs": [],
   "source": [
    "for i in range(len(nodesGroups)):\n",
    "  j=i\n",
    "  while j<len(nodesGroups)-1:\n",
    "    j+=1\n",
    "    if len(nodesGroups[i])>len(nodesGroups[j]):\n",
    "      nodesGroups[i],nodesGroups[j]=nodesGroups[j],nodesGroups[i]\n",
    "\n",
    "NodosLucia = list()\n",
    "NodosJorge = list()\n",
    "NodosLuis = list()\n",
    "NodosDaniel = list()\n",
    "NodosJoaquin = list()\n",
    "\n",
    "for i in range(len(nodesGroups)):\n",
    "  if i<18:\n",
    "    NodosLucia.append(nodesGroups[i])\n",
    "  elif i<36:\n",
    "    NodosJorge.append(nodesGroups[i])\n",
    "  elif i<55:\n",
    "    NodosLuis.append(nodesGroups[i])\n",
    "  elif i<74:\n",
    "    NodosDaniel.append(nodesGroups[i])\n",
    "  else:\n",
    "    NodosJoaquin.append(nodesGroups[i])"
   ]
  },
  {
   "cell_type": "code",
   "execution_count": 10,
   "metadata": {},
   "outputs": [],
   "source": [
    "def convertWithWeight(n):\n",
    "    newList = []\n",
    "    for i in range(len(n)):\n",
    "        newList.append([])\n",
    "        newList[i].append(n[i])\n",
    "        newList[i].append(1)\n",
    "    newList.pop(-1)\n",
    "    newList.pop(-1)\n",
    "    return newList"
   ]
  },
  {
   "cell_type": "code",
   "execution_count": 11,
   "metadata": {},
   "outputs": [],
   "source": [
    "nodosJoaquinConPeso = []\n",
    "for i in range(len(NodosJoaquin)):\n",
    "    nodosJoaquinConPeso.append([])\n",
    "    for j in range(len(NodosJoaquin[i])):\n",
    "        nodosJoaquinConPeso[i].append(convertWithWeight(NodosJoaquin[i][j]))"
   ]
  },
  {
   "cell_type": "code",
   "execution_count": 12,
   "metadata": {},
   "outputs": [],
   "source": [
    "nodosConPeso = []\n",
    "for i in range(len(nodos)):\n",
    "    nodosConPeso.append(convertWithWeight(nodos[i]))"
   ]
  },
  {
   "cell_type": "code",
   "execution_count": 14,
   "metadata": {},
   "outputs": [],
   "source": [
    "def dijkstra(G, s):\n",
    "  \n",
    "  n = len(G)\n",
    "  visited = [False]*n\n",
    "  path = [None]*n\n",
    "  cost = [math.inf]*n\n",
    "  cost[s] = 0\n",
    "  queue = [(0, s)]\n",
    "  \n",
    "  while queue:\n",
    "    g_u, u = hq.heappop(queue)\n",
    "    if not visited[u]:\n",
    "      visited[u] = True\n",
    "      for v, w in G[u]:\n",
    "        f = g_u + w\n",
    "        if f < cost[v]:\n",
    "          cost[v] = f\n",
    "          path[v] = u\n",
    "          hq.heappush(queue, (f, v))\n",
    "          \n",
    "  return path, cost"
   ]
  },
  {
   "cell_type": "code",
   "execution_count": 26,
   "metadata": {},
   "outputs": [
    {
     "name": "stdout",
     "output_type": "stream",
     "text": [
      "750646\n",
      "242187\n",
      "881821\n",
      "685537\n",
      "408369\n",
      "986396\n",
      "155876\n",
      "527595\n",
      "417518\n",
      "934079\n",
      "818141\n",
      "232101\n",
      "86331\n",
      "640393\n",
      "813452\n",
      "665070\n",
      "9753\n",
      "174415\n",
      "206623\n"
     ]
    }
   ],
   "source": [
    "#Aplicamos el algoritmo a todos los nodos de un grupo\n",
    "almacen = 0\n",
    "for i in range(len(NodosJoaquin)):\n",
    "    for j in range(len(NodosJoaquin[i])):\n",
    "        if NodosJoaquin[i][j][-2] == 2:\n",
    "            almacen = NodosJoaquin[i][j][-1]\n",
    "            print(almacen)\n",
    "            dijkstra(nodosConPeso, almacen)"
   ]
  }
 ],
 "metadata": {
  "interpreter": {
   "hash": "76da5625d405fa70fa1c1c5e3a7c0425d290a1af8e4d63dae805595e14c965e1"
  },
  "kernelspec": {
   "display_name": "Python 3.9.8 64-bit",
   "language": "python",
   "name": "python3"
  },
  "language_info": {
   "codemirror_mode": {
    "name": "ipython",
    "version": 3
   },
   "file_extension": ".py",
   "mimetype": "text/x-python",
   "name": "python",
   "nbconvert_exporter": "python",
   "pygments_lexer": "ipython3",
   "version": "3.9.8"
  },
  "orig_nbformat": 4
 },
 "nbformat": 4,
 "nbformat_minor": 2
}
